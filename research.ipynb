{
 "cells": [
  {
   "cell_type": "code",
   "execution_count": 1,
   "metadata": {
    "scrolled": true
   },
   "outputs": [],
   "source": [
    "%load_ext autotime\n",
    "import pymongo\n",
    "import json\n",
    "import copy\n",
    "import math\n",
    "import time\n",
    "from tqdm import tqdm_notebook, tnrange\n",
    "from graphviz import Graph"
   ]
  },
  {
   "cell_type": "markdown",
   "metadata": {},
   "source": [
    "## Connect to the database"
   ]
  },
  {
   "cell_type": "code",
   "execution_count": 2,
   "metadata": {},
   "outputs": [
    {
     "name": "stdout",
     "output_type": "stream",
     "text": [
      "time: 328 ms\n"
     ]
    }
   ],
   "source": [
    "# create connecttion with database\n",
    "# Note: to connect to your own db, change the url and port number\n",
    "# Also change the authenticate\n",
    "client = pymongo.MongoClient('mongodb://ds121163.mlab.com',21163)\n",
    "# Get the database\n",
    "jasondb = client['jasondb']\n",
    "# Set authentication\n",
    "jasondb.authenticate('admin','admin123')\n",
    "# Get collection, if no named collection then create one\n",
    "companies = jasondb.bigquery \n",
    "# name of the output file\n",
    "\n",
    "OUTPUT_FILE_NAME = 'output.json'\n"
   ]
  },
  {
   "cell_type": "markdown",
   "metadata": {},
   "source": [
    "## Upload data"
   ]
  },
  {
   "cell_type": "code",
   "execution_count": null,
   "metadata": {},
   "outputs": [],
   "source": [
    "with open('results-20190219-203953.json') as f:\n",
    "    file_data = json.load(f)\n",
    "companies.insert(file_data)\n"
   ]
  },
  {
   "cell_type": "code",
   "execution_count": null,
   "metadata": {},
   "outputs": [],
   "source": [
    "# following code is to load json file to mongodb\n",
    "\n",
    "file = open('results-20190219-203352.json',encoding='utf8')\n",
    "maxNum = 100\n",
    "currentNum = 0\n",
    "for line in file:\n",
    "    if currentNum >= maxNum:\n",
    "        break\n",
    "    print(line)\n",
    "    data = json.loads(line.replace(\"$\",\"\"))\n",
    "    print(data)\n",
    "    companies.insert_one(data)\n",
    "    currentNum += 1\n",
    "file.close()"
   ]
  },
  {
   "cell_type": "markdown",
   "metadata": {},
   "source": [
    "## Check number of schema and get r-schema"
   ]
  },
  {
   "cell_type": "code",
   "execution_count": 3,
   "metadata": {},
   "outputs": [
    {
     "name": "stdout",
     "output_type": "stream",
     "text": [
      "time: 3 ms\n"
     ]
    }
   ],
   "source": [
    "# a function to create rscheme\n",
    "# it require a document and a path to this document\n",
    "# typ of the document should be dict\n",
    "def createRschema (rscheme, document, path):\n",
    "    # define a rscheme\n",
    "    # get keys\n",
    "    for key in document:\n",
    "        # check if the path is root or not\n",
    "        # if not, add .\n",
    "        if path == \"\":\n",
    "            currentPath = key\n",
    "        else:\n",
    "            # for this collections ONLY\n",
    "            # In this collections it has a list as a key\n",
    "            if(isinstance(key, list)):\n",
    "                currentPath = path + \".\" + covertListToString(key)\n",
    "            else:\n",
    "                currentPath = path + \".\" + key\n",
    "        # add to dict\n",
    "        rscheme[currentPath] = type(document.get(key)).__name__\n",
    "        # recursion call\n",
    "        if isinstance(document.get(key), list):\n",
    "            for element in document.get(key):\n",
    "                if isinstance(element, list):\n",
    "                    break\n",
    "                else:\n",
    "                    createRschema(rscheme, element, currentPath)\n",
    "        elif isinstance(document.get(key),dict):\n",
    "            createRschema(rscheme, document.get(key),currentPath)"
   ]
  },
  {
   "cell_type": "code",
   "execution_count": 4,
   "metadata": {},
   "outputs": [
    {
     "name": "stdout",
     "output_type": "stream",
     "text": [
      "time: 989 µs\n"
     ]
    }
   ],
   "source": [
    "# A helper function to convert list to string\n",
    "def covertListToString (lst):\n",
    "    str = '['\n",
    "    for i in lst:\n",
    "        str+' , '\n",
    "    str+']'\n",
    "    return str\n"
   ]
  },
  {
   "cell_type": "code",
   "execution_count": 5,
   "metadata": {
    "scrolled": true
   },
   "outputs": [
    {
     "name": "stdout",
     "output_type": "stream",
     "text": [
      "7\n",
      "{'_id': 'ObjectId', 'image_id': 'str', 'subset': 'str', 'original_url': 'str', 'source': 'str', 'label_name': 'str', 'confidence': 'str'}\n",
      "time: 440 ms\n"
     ]
    }
   ],
   "source": [
    "# get document in the collection and parse them\n",
    "rscheme = {}\n",
    "for document in companies.find({}):\n",
    "    createRschema(rscheme, document, \"\")\n",
    "\n",
    "# output to a file\n",
    "with open(OUTPUT_FILE_NAME,'w') as output:\n",
    "     json.dump(rscheme, output, sort_keys=TabError, indent= 4)\n",
    "\n",
    "print(len(rscheme))\n",
    "print(rscheme)"
   ]
  },
  {
   "cell_type": "markdown",
   "metadata": {},
   "source": [
    "### Get Number of Schemas"
   ]
  },
  {
   "cell_type": "code",
   "execution_count": 6,
   "metadata": {},
   "outputs": [
    {
     "name": "stdout",
     "output_type": "stream",
     "text": [
      "time: 3.03 ms\n"
     ]
    }
   ],
   "source": [
    "\n",
    "def getNumOfScheme (rscheme, document, path = '', added = False):\n",
    "    # define a rscheme\n",
    "    # get keys\n",
    "    for key in document:\n",
    "        # check if the path is root or not\n",
    "        # if not, add .\n",
    "        if path == \"\":\n",
    "            currentPath = key\n",
    "        else:\n",
    "            # for this collections ONLY\n",
    "            # In this collections it has a list as a key\n",
    "            if(isinstance(key, list)):\n",
    "                currentPath = path + \".\" + covertListToString(key)\n",
    "            else:\n",
    "                currentPath = path + \".\" + key\n",
    "        # add to dict\n",
    "        datatype = type(document.get(key)).__name__\n",
    "        if not 'dict' in datatype and not 'list' in datatype:\n",
    "            datatype = 'primary'\n",
    "        if currentPath not in rscheme:\n",
    "            rscheme[currentPath] = datatype\n",
    "            if added==False:\n",
    "                global numOfScheme\n",
    "                numOfScheme += 1\n",
    "                added = True\n",
    "        \n",
    "        # recursion call\n",
    "        if isinstance(document.get(key), list):\n",
    "            for element in document.get(key):\n",
    "                if isinstance(element, list):\n",
    "                    break\n",
    "                else:\n",
    "                    getNumOfScheme(rscheme, element, currentPath, added)\n",
    "        elif isinstance(document.get(key),dict):\n",
    "            getNumOfScheme(rscheme, document.get(key),currentPath, added)"
   ]
  },
  {
   "cell_type": "code",
   "execution_count": 7,
   "metadata": {},
   "outputs": [
    {
     "name": "stdout",
     "output_type": "stream",
     "text": [
      "time: 1 ms\n"
     ]
    }
   ],
   "source": [
    "def checkIfHave(schemas, rschemas):\n",
    "    for schema in schemas:\n",
    "        if schema == rschemas:\n",
    "            return True\n",
    "    return False"
   ]
  },
  {
   "cell_type": "code",
   "execution_count": 8,
   "metadata": {},
   "outputs": [
    {
     "name": "stdout",
     "output_type": "stream",
     "text": [
      "number of schemas: 2\n",
      "number of documents: 4000\n",
      "[{'_id': 'primary', 'image_id': 'primary', 'subset': 'primary', 'original_url': 'primary'}, {'_id': 'primary', 'image_id': 'primary', 'source': 'primary', 'label_name': 'primary', 'confidence': 'primary'}]\n",
      "time: 376 ms\n"
     ]
    }
   ],
   "source": [
    "# We need to count how many distinct schema in a collection\n",
    "# Different path, and datatype\n",
    "\n",
    "#def getNumofSchema (document, path)\n",
    "schemas = []\n",
    "numOfScheme = 0\n",
    "count = 0\n",
    "datas=[]\n",
    "for document in companies.find({}):\n",
    "    rscheme = {}\n",
    "    datas.append(document)\n",
    "    count += 1\n",
    "    getNumOfScheme(rscheme, document)\n",
    "    if not checkIfHave(schemas, rscheme):\n",
    "        schemas.append(rscheme)\n",
    "        \n",
    "print(\"number of schemas:\" , len(schemas))\n",
    "print(\"number of documents:\" , count)\n",
    "print(schemas)\n"
   ]
  },
  {
   "cell_type": "markdown",
   "metadata": {},
   "source": [
    "## Tree"
   ]
  },
  {
   "cell_type": "code",
   "execution_count": 9,
   "metadata": {},
   "outputs": [
    {
     "name": "stdout",
     "output_type": "stream",
     "text": [
      "time: 10 ms\n"
     ]
    }
   ],
   "source": [
    "class DecisionTree():\n",
    "    def __init__(self):\n",
    "        self.nodes = []\n",
    "        self.edges = []\n",
    "        self.entropy = 0\n",
    "        self.schemaentropy = 0\n",
    "        self.leafid=0\n",
    "    def addNode (self, newNode, parent = None, value = None):\n",
    "        self.nodes.append(newNode)\n",
    "        if parent is not None and value is not None:\n",
    "            temp = Edge(paren, newNode, value)\n",
    "            for edge in self.edges:\n",
    "                if not edge == temp:\n",
    "                    self.edges.append(temp)\n",
    "    def split(self, node,key, nodeList, isPure):\n",
    "        \n",
    "        newNode = Node(key)\n",
    "        if len(self.nodes)==1:\n",
    "            if node in self.nodes:\n",
    "                self.nodes.remove(node)\n",
    "                self.nodes.append(newNode)\n",
    "                \n",
    "                for leaf in nodeList:\n",
    "                    leaf.canBeSplit = isPure\n",
    "                    leaf.id = self.leafid\n",
    "                    self.leafid = self.leafid + 1\n",
    "                    self.nodes.append(leaf)\n",
    "                    temp = Edge(newNode, leaf, leaf.value, leaf.symbol)\n",
    "                    self.edges.append(temp)\n",
    "        else:\n",
    "            if node in self.nodes:\n",
    "                self.nodes.remove(node)\n",
    "                self.nodes.append(newNode)\n",
    "                for edge in self.edges:\n",
    "                    if edge.contain(node):\n",
    "                        edge.children = newNode\n",
    "                for leaf in nodeList:\n",
    "                    leaf.canBeSplit = isPure\n",
    "                    leaf.id = self.leafid\n",
    "                    self.leafid = self.leafid + 1\n",
    "                    self.nodes.append(leaf)\n",
    "                    temp = Edge(newNode, leaf, leaf.value, leaf.symbol)\n",
    "                    self.edges.append(temp)\n",
    "                    \n",
    "    def display(self):\n",
    "        for node in self.nodes:\n",
    "            print(node.name)\n",
    "        for edge in self.edges:\n",
    "            print(edge.value)\n",
    "            \n",
    "            \n",
    "        \n",
    "class Node():\n",
    "    def __init__(self, name):\n",
    "        self.name = name\n",
    "        self.children = []\n",
    "    def addChild(self, obj):\n",
    "        self.children.append(obj)\n",
    "    def __eq__(self, other):\n",
    "        if isinstance(other, Node):\n",
    "            return self.name == other.name\n",
    "        return False\n",
    "    \n",
    "class Leaf(Node):\n",
    "    def __init__(self, schemas, value, symbol, name = 'leaf'):\n",
    "        self.schemas = schemas\n",
    "        self.name = name\n",
    "        self.canBeSplit = True\n",
    "        self.value = value\n",
    "        self.symbol = symbol\n",
    "        self.id=''\n",
    "    def getSchemas(self):\n",
    "        return self.schemas        \n",
    "        \n",
    "class Edge():\n",
    "    def __init__(self, parent, children, value, symbol):\n",
    "        self.parent = parent\n",
    "        self.children = children\n",
    "        self.value = value\n",
    "        self.symbol = symbol\n",
    "    def __eq__(self, other):\n",
    "        if isinstance(other, Edge):\n",
    "            return (self.children == other.childre) and (self.parent == other.paren) and (self.value == other.value)\n",
    "        return False\n",
    "    def contain(self, node):\n",
    "        if self.children == node:\n",
    "            return True\n",
    "        else:\n",
    "            return False"
   ]
  },
  {
   "cell_type": "code",
   "execution_count": 10,
   "metadata": {},
   "outputs": [
    {
     "name": "stdout",
     "output_type": "stream",
     "text": [
      "time: 1 ms\n"
     ]
    }
   ],
   "source": [
    "def mergeSchemas(schemas):\n",
    "    rschemas ={}\n",
    "    for schema in schemas:\n",
    "        for key, value in schema.items():\n",
    "            if key in rschemas and not value == rschemas[key]:\n",
    "                rschemas[key] = 'str'\n",
    "            else:\n",
    "                rschemas[key] = value\n",
    "    return rschemas"
   ]
  },
  {
   "cell_type": "code",
   "execution_count": 11,
   "metadata": {},
   "outputs": [
    {
     "name": "stdout",
     "output_type": "stream",
     "text": [
      "time: 11 ms\n"
     ]
    }
   ],
   "source": [
    "# Numeric split can be <= and >\n",
    "def numeric(node, key, value):\n",
    "    less = Leaf([], value, 'less')\n",
    "    greater = Leaf([],value, 'greater')\n",
    "    # Get nodeList after split\n",
    "    nodeList = [Leaf([],value, 'equal'), Leaf([],value,'notEqual')]\n",
    "    # get associated schema and split them\n",
    "    for data in datas:\n",
    "        rscheme = {}\n",
    "        getNumOfScheme (rscheme, data)\n",
    "        if getValue(data, key.split('.')) <= value:\n",
    "            if not checkIfHave(less.schemas, rscheme):\n",
    "                less.schemas.append(rscheme)\n",
    "        else:\n",
    "            if not checkIfHave(greater.schemas, rscheme):\n",
    "                greater.schemas.append(rscheme)\n",
    "        if getValue(data, key.split('.')) == value:\n",
    "            if not checkIfHave(nodeList[0].schemas, rscheme):\n",
    "                nodeList[0].schemas.append(rscheme)\n",
    "        else:\n",
    "            if not checkIfHave(nodeList[1].schemas, rscheme):\n",
    "                nodeList[1].schemas.append(rscheme)\n",
    "\n",
    "    # calculate entropy:\n",
    "    lessEntropy = 0\n",
    "    greaterEntropy = 0\n",
    "    lessTotal = 0\n",
    "    greaterTotal = 0\n",
    "    \n",
    "    for schema in less.schemas:\n",
    "        lessTotal = lessTotal + len(schema)\n",
    "    for schema in greater.schemas:\n",
    "        greaterTotal = greaterTotal + len(schema)\n",
    "    # calculate schema-entropy3\n",
    "    sEntropy = 0\n",
    "    totalLength = lessTotal+greaterTotal\n",
    "    for schema in node.schemas:\n",
    "        \n",
    "        if schema in less.schemas and schema in greater.schemas:\n",
    "            lessEntropy = lessEntropy - len(schema)/(lessTotal)* math.log10(len(schema)/lessTotal)\n",
    "            greaterEntropy = greaterEntropy - len(schema)/(greaterTotal)* math.log10(len(schema)/greaterTotal)\n",
    "        elif schema in less.schemas and schema not in greater.schemas:\n",
    "            lessEntropy = lessEntropy - len(schema)/(lessTotal)* math.log10(len(schema)/lessTotal)\n",
    "        elif schema not in less.schemas and schema in greater.schemas:\n",
    "            greaterEntropy = greaterEntropy - len(schema)/(greaterTotal)* math.log10(len(schema)/greaterTotal)\n",
    "        if schema in less.schemas and schema in greater.schemas:\n",
    "            temp = len(schema)/(2*len(schema))* math.log10(len(schema)/(2*len(schema)))+ len(schema)/(2*len(schema))* math.log10(len(schema)/(2*len(schema)))\n",
    "            sEntropy = sEntropy - 2*len(schema)/totalLength * temp\n",
    "        elif schema in less.schemas and schema not in greater.schemas:\n",
    "            temp = len(schema)/(len(schema))* math.log10(len(schema)/(len(schema)))\n",
    "            sEntropy = sEntropy - len(schema)/totalLength * temp\n",
    "        elif schema not in less.schemas and schema in greater.schemas:\n",
    "            temp = len(schema)/(len(schema))* math.log10(len(schema)/(len(schema)))\n",
    "            sEntropy = sEntropy - len(schema)/totalLength * temp\n",
    "    entropy = lessEntropy * len(less.schemas) /(len(less.schemas)+len(greater.schemas)) + greaterEntropy * len(greater.schemas) /(len(less.schemas)+len(greater.schemas))  \n",
    "    \n",
    "     # calculate entropy and sEntropy\n",
    "    entropyCategorical1, sEntropyCategorical1 = entropysCalculation(nodeList,node.schemas)\n",
    "    \n",
    "    if sEntropy< sEntropyCategorical1:\n",
    "        return entropy,sEntropy, [less, greater]\n",
    "    elif sEntropy == sEntropyCategorical1 and entropy>entropyCategorical1:\n",
    "        return entropy,sEntropy, [less, greater]\n",
    "    else:\n",
    "        return entropyCategorical1,sEntropyCategorical1, nodeList\n",
    "\n",
    "\n",
    "\n",
    "def categorical2(node, key, values):\n",
    "    # Get nodeList after split\n",
    "    nodeList = []\n",
    "    for value in values:\n",
    "        schemas = []\n",
    "        for data in datas:\n",
    "            rscheme = {}\n",
    "            getNumOfScheme (rscheme, data)\n",
    "            if getValue(data, key.split('.')) == value:\n",
    "                if not checkIfHave(schemas, rscheme):\n",
    "                    schemas.append(rscheme)\n",
    "        nodeList.append(Leaf(schemas, value, 'equal'))\n",
    "    \n",
    "    # calculate entropy and sEntropy\n",
    "    entropy, sEntropy = entropysCalculation(nodeList,node.schemas)\n",
    "                \n",
    "    return entropy, sEntropy, nodeList"
   ]
  },
  {
   "cell_type": "code",
   "execution_count": 12,
   "metadata": {},
   "outputs": [
    {
     "name": "stdout",
     "output_type": "stream",
     "text": [
      "time: 3 ms\n"
     ]
    }
   ],
   "source": [
    "def entropysCalculation(nodeList, schemas):\n",
    "    entropy = 0\n",
    "    total = 0\n",
    "    sEntropy = 0\n",
    "    for node in nodeList:\n",
    "        for schema in node.schemas:\n",
    "            total = total + len(schema)\n",
    "            \n",
    "    for node in nodeList:\n",
    "        temp = 0\n",
    "        totalAttributeInThisLeaf = 0\n",
    "        for schema in node.schemas:\n",
    "            totalAttributeInThisLeaf = totalAttributeInThisLeaf + len(schema)\n",
    "        for schema in node.schemas:\n",
    "            temp = temp - len(schema)/totalAttributeInThisLeaf*math.log10(len(schema)/totalAttributeInThisLeaf)\n",
    "        entropy = entropy + temp * totalAttributeInThisLeaf/total\n",
    "        \n",
    "    for schema in schemas:\n",
    "        temp = 0\n",
    "        totalForThisSchema = 0\n",
    "        for node in nodeList:\n",
    "            if checkIfHave(node.schemas, schema):\n",
    "                totalForThisSchema = totalForThisSchema + len(schema)\n",
    "        for node in nodeList:\n",
    "            if checkIfHave(node.schemas, schema):\n",
    "                temp = temp + len(schema)/totalForThisSchema * math.log10(len(schema)/totalForThisSchema)\n",
    "        sEntropy = sEntropy - temp * totalForThisSchema/total\n",
    "    return entropy, sEntropy"
   ]
  },
  {
   "cell_type": "code",
   "execution_count": 13,
   "metadata": {},
   "outputs": [
    {
     "name": "stdout",
     "output_type": "stream",
     "text": [
      "time: 998 µs\n"
     ]
    }
   ],
   "source": [
    "def getValue(currentData, path):\n",
    "    if len(path) == 1:\n",
    "        key = path.pop()\n",
    "        if key in currentData:\n",
    "            return currentData[key]\n",
    "        else:\n",
    "            return None\n",
    "    else:\n",
    "        return getValue(currentData[path.pop()], path)\n",
    "    "
   ]
  },
  {
   "cell_type": "code",
   "execution_count": 14,
   "metadata": {},
   "outputs": [
    {
     "name": "stdout",
     "output_type": "stream",
     "text": [
      "time: 4.98 ms\n"
     ]
    }
   ],
   "source": [
    "# find the best splict for an attributes\n",
    "# decisionTree: Current dicisionTree before split\n",
    "# node: The node you want to split\n",
    "# key: The attribute that you want to split\n",
    "# return: bestsplit entropy value, schema entropy value and new Decision tree\n",
    "def findBestSplitValueBased(decisionTree, node, key):\n",
    "    tempTree = copy.deepcopy(decisionTree)\n",
    "    # Get distinct values\n",
    "    values = []\n",
    "    for data in datas:\n",
    "        temp = getValue(data, key.split('.'))\n",
    "        if temp is not None:\n",
    "            values.append(temp)\n",
    "    values = list(set(values))\n",
    "    values.sort()\n",
    "    currentBestEntropy =  0\n",
    "    currentBestSchemaEntropy =  99999\n",
    "    nodeList = []\n",
    "    # Check numeric split\n",
    "    for i in tqdm_notebook(range(0,len(values)-1), desc='numeric split'):\n",
    "        # Get value for this index split\n",
    "        tempEntropy, tempSchemaEntropy, tempNodeList = numeric(node, key, values[i])\n",
    "        \n",
    "        if tempSchemaEntropy < currentBestSchemaEntropy:\n",
    "            currentBestEntropy = tempEntropy\n",
    "            currentBestSchemaEntropy = tempSchemaEntropy\n",
    "            nodeList = tempNodeList\n",
    "        elif tempSchemaEntropy == currentBestSchemaEntropy and tempEntropy > currentBestEntropy:\n",
    "            currentBestEntropy = tempEntropy\n",
    "            currentBestSchemaEntropy = tempSchemaEntropy\n",
    "            nodeList = tempNodeList\n",
    "            \n",
    "    # Get value for categorical 2 split\n",
    "    tempEntropy, tempSchemaEntropy,tempNodeList = categorical2(node, key, values)\n",
    "        \n",
    "    if tempSchemaEntropy < currentBestSchemaEntropy:\n",
    "        currentBestEntropy = tempEntropy\n",
    "        currentBestSchemaEntropy = tempSchemaEntropy\n",
    "        nodeList = tempNodeList\n",
    "    elif tempSchemaEntropy == currentBestSchemaEntropy and tempEntropy > currentBestEntropy:\n",
    "        currentBestEntropy = tempEntropy\n",
    "        currentBestSchemaEntropy = tempSchemaEntropy\n",
    "        nodeList = tempNodeList\n",
    "        \n",
    "    return currentBestEntropy, currentBestSchemaEntropy, nodeList"
   ]
  },
  {
   "cell_type": "code",
   "execution_count": 15,
   "metadata": {},
   "outputs": [
    {
     "name": "stdout",
     "output_type": "stream",
     "text": [
      "time: 2.03 ms\n"
     ]
    }
   ],
   "source": [
    "def getIntersectionOfSchemas(schemas):\n",
    "    # get intersection keys\n",
    "    keys = set(schemas[0].keys())\n",
    "    for schema in schemas:\n",
    "        temp = set(schema.keys())\n",
    "        keys = temp & keys\n",
    "    intersectionOfSchemas = {}\n",
    "    for key in keys:\n",
    "        for schema in schemas:\n",
    "            if key in intersectionOfSchemas and not intersectionOfSchemas[key] == schema[key]:\n",
    "                intersectionOfSchemas.pop(key)\n",
    "            elif key not in intersectionOfSchemas:\n",
    "                intersectionOfSchemas[key] = schema[key]\n",
    "    return intersectionOfSchemas\n",
    "def getDistinctAttributes(schemas, intersectionAttributes):\n",
    "    attributes = {}\n",
    "    for schema in schemas:\n",
    "        for key, value in schema.items():\n",
    "            if key not in intersectionAttributes:\n",
    "                attributes[key]= value\n",
    "    return attributes"
   ]
  },
  {
   "cell_type": "code",
   "execution_count": 16,
   "metadata": {},
   "outputs": [
    {
     "name": "stdout",
     "output_type": "stream",
     "text": [
      "time: 2 ms\n"
     ]
    }
   ],
   "source": [
    "def findBestSplitSchemaBased(decisionTree, node, key):\n",
    "    nodeList=[Leaf([], key, 'E'), Leaf([],key,'notE')]\n",
    "    for schema in node.schemas:\n",
    "        if key in schema:\n",
    "            if not checkIfHave(nodeList[0].schemas, schema):\n",
    "                nodeList[0].schemas.append(schema)\n",
    "        else:\n",
    "            if not checkIfHave(nodeList[1].schemas, schema):\n",
    "                nodeList[1].schemas.append(schema)\n",
    "    \n",
    "    \n",
    "    # calculate entropy and sEntropy\n",
    "    entropy, sEntropy = entropysCalculation(nodeList,node.schemas)\n",
    "    \n",
    "    return entropy, sEntropy, nodeList\n",
    "         "
   ]
  },
  {
   "cell_type": "code",
   "execution_count": 17,
   "metadata": {},
   "outputs": [
    {
     "name": "stdout",
     "output_type": "stream",
     "text": [
      "time: 7 ms\n"
     ]
    }
   ],
   "source": [
    "def split(decisionTree, node, entropy, sEntropy):\n",
    "    bestSplit = []\n",
    "    schemas = node.getSchemas()\n",
    "    # Get distinct intersection attributes\n",
    "    intersectionAttributes = getIntersectionOfSchemas(node.getSchemas())\n",
    "    \n",
    "    # For each attribute, try to find the best split\n",
    "    currentBestEntropy =  0\n",
    "    currentBestSchemaEntropy =  99999\n",
    "    nodeList = []\n",
    "    bestAttribute=None\n",
    "    for key, value in tqdm_notebook(intersectionAttributes.items(),desc='primary type'):\n",
    "        # check the value based split for primary attributes\n",
    "        if value == 'primary':\n",
    "            # find the best split for this attribute\n",
    "            tempEntropy, tempSchemaEntropy, tempNodeList = findBestSplitValueBased(decisionTree, node, key)\n",
    "            # check current best\n",
    "            if tempSchemaEntropy < currentBestSchemaEntropy:\n",
    "                currentBestEntropy = tempEntropy\n",
    "                currentBestSchemaEntropy = tempSchemaEntropy\n",
    "                nodeList = tempNodeList\n",
    "                bestAttribute = key\n",
    "            elif tempSchemaEntropy == currentBestSchemaEntropy and tempEntropy > currentBestEntropy:\n",
    "                currentBestEntropy = tempEntropy\n",
    "                currentBestSchemaEntropy = tempSchemaEntropy\n",
    "                nodeList = tempNodeList\n",
    "\n",
    "    gain = entropy - currentBestEntropy\n",
    "    loss = currentBestSchemaEntropy - sEntropy\n",
    "    # if no vaild value split\n",
    "    if not gain >= alpha or not loss <= beta:\n",
    "        # Get distinct attributes without intersections\n",
    "        distinctAttributes = getDistinctAttributes(node.getSchemas(), intersectionAttributes)\n",
    "        for key, value in distinctAttributes.items():\n",
    "            # find the best split for this attribute\n",
    "            tempEntropy, tempSchemaEntropy, tempNodeList = findBestSplitSchemaBased(decisionTree, node, key)\n",
    "            print(\"entropy: \", tempEntropy)\n",
    "            print('sEntropy: ',tempSchemaEntropy)\n",
    "            # check current best\n",
    "            if tempSchemaEntropy < currentBestSchemaEntropy:\n",
    "                currentBestEntropy = tempEntropy\n",
    "                currentBestSchemaEntropy = tempSchemaEntropy\n",
    "                nodeList = tempNodeList\n",
    "                bestAttribute = key\n",
    "            elif tempSchemaEntropy == currentBestSchemaEntropy and tempEntropy > currentBestEntropy:\n",
    "                currentBestEntropy = tempEntropy\n",
    "                currentBestSchemaEntropy = tempSchemaEntropy\n",
    "                nodeList = tempNodeList\n",
    "                bestAttribute = key\n",
    "        \n",
    "        gain = entropy - currentBestEntropy\n",
    "        loss = currentBestSchemaEntropy - sEntropy\n",
    "        print(gain)\n",
    "        print(loss)\n",
    "        print(key)\n",
    "        # if also no schema split\n",
    "        if (not gain >= alpha or not loss <= beta) and not loss == 0:\n",
    "            for tempNode in decisionTree.nodes:\n",
    "                if tempNode == node:\n",
    "                    node.canBeSplit = False\n",
    "            return\n",
    "    \n",
    "    \n",
    "    #rebuild the tree\n",
    "    decisionTree.split(node,key, nodeList, False)\n",
    "\n",
    "    for node in decisionTree.nodes:\n",
    "        if type(node).__name__ == 'Leaf' and node.canBeSplit == True:\n",
    "            split(decisionTree, node, currentBestEntropy, currentBestSchemaEntropy)\n",
    "    \n"
   ]
  },
  {
   "cell_type": "code",
   "execution_count": 18,
   "metadata": {},
   "outputs": [
    {
     "name": "stdout",
     "output_type": "stream",
     "text": [
      "time: 1.03 ms\n"
     ]
    }
   ],
   "source": [
    "schemaProfiling = DecisionTree()\n",
    "root = Leaf(schemas,'','')\n",
    "schemaProfiling.addNode(root)"
   ]
  },
  {
   "cell_type": "code",
   "execution_count": 19,
   "metadata": {
    "scrolled": true
   },
   "outputs": [
    {
     "data": {
      "application/vnd.jupyter.widget-view+json": {
       "model_id": "0656dde6fcaf4bf1a94806640c69c9f1",
       "version_major": 2,
       "version_minor": 0
      },
      "text/plain": [
       "HBox(children=(IntProgress(value=0, description='primary type', max=2, style=ProgressStyle(description_width='…"
      ]
     },
     "metadata": {},
     "output_type": "display_data"
    },
    {
     "data": {
      "application/vnd.jupyter.widget-view+json": {
       "model_id": "8f95db3bb2614f749e63c689d7e38949",
       "version_major": 2,
       "version_minor": 0
      },
      "text/plain": [
       "HBox(children=(IntProgress(value=0, description='numeric split', max=3999, style=ProgressStyle(description_wid…"
      ]
     },
     "metadata": {},
     "output_type": "display_data"
    },
    {
     "data": {
      "application/vnd.jupyter.widget-view+json": {
       "model_id": "aac7dcc87aae438684864d5b573c29ca",
       "version_major": 2,
       "version_minor": 0
      },
      "text/plain": [
       "HBox(children=(IntProgress(value=0, description='numeric split', max=1995, style=ProgressStyle(description_wid…"
      ]
     },
     "metadata": {},
     "output_type": "display_data"
    },
    {
     "name": "stdout",
     "output_type": "stream",
     "text": [
      "\n",
      "done\n",
      "time: 4min 37s\n"
     ]
    }
   ],
   "source": [
    "alpha = 0.1\n",
    "beta = 0.01\n",
    "entropy, sEntropy = entropysCalculation([root], root.schemas)\n",
    "split(schemaProfiling,root,entropy,sEntropy)\n",
    "print(\"done\")\n"
   ]
  },
  {
   "cell_type": "code",
   "execution_count": 96,
   "metadata": {},
   "outputs": [
    {
     "name": "stdout",
     "output_type": "stream",
     "text": [
      "leaf\n",
      "[{'_id': 'primary', 'image_id': 'primary', 'subset': 'primary', 'original_url': 'primary'}]\n",
      "leaf\n",
      "[{'_id': 'primary', 'image_id': 'primary', 'source': 'primary', 'label_name': 'primary', 'confidence': 'primary'}]\n",
      "_id\n",
      "leaf\n",
      "5c6cafbed1823d09746e36b2\n",
      "less\n",
      "_id\n",
      "leaf\n",
      "5c6cafbed1823d09746e36b2\n",
      "greater\n",
      "time: 24 ms\n"
     ]
    }
   ],
   "source": [
    "for node in schemaProfiling.nodes:\n",
    "    if type(node).__name__ == 'Leaf':\n",
    "        print(node.name)\n",
    "        print(node.schemas)\n",
    "for edge in schemaProfiling.edges:\n",
    "    print(edge.parent.name)\n",
    "    print(edge.children.name)\n",
    "    print(edge.value)\n",
    "    print(edge.symbol)\n",
    "    "
   ]
  },
  {
   "cell_type": "markdown",
   "metadata": {},
   "source": [
    "## Visulization"
   ]
  },
  {
   "cell_type": "code",
   "execution_count": 20,
   "metadata": {},
   "outputs": [
    {
     "name": "stdout",
     "output_type": "stream",
     "text": [
      "time: 77 ms\n"
     ]
    }
   ],
   "source": [
    "import pydot"
   ]
  },
  {
   "cell_type": "code",
   "execution_count": 21,
   "metadata": {},
   "outputs": [
    {
     "name": "stdout",
     "output_type": "stream",
     "text": [
      "time: 2 ms\n"
     ]
    }
   ],
   "source": [
    "G = pydot.Dot()"
   ]
  },
  {
   "cell_type": "code",
   "execution_count": 22,
   "metadata": {},
   "outputs": [
    {
     "name": "stdout",
     "output_type": "stream",
     "text": [
      "time: 9 ms\n"
     ]
    }
   ],
   "source": [
    "for node in schemaProfiling.nodes:\n",
    "    if type(node).__name__ == 'Leaf':\n",
    "        temp = pydot.Node(node.id, label=''.join(json.dumps(node.schemas)))\n",
    "    else:\n",
    "        temp = pydot.Node(node.name,label=node.name)\n",
    "    G.add_node(temp)"
   ]
  },
  {
   "cell_type": "code",
   "execution_count": 23,
   "metadata": {},
   "outputs": [
    {
     "name": "stdout",
     "output_type": "stream",
     "text": [
      "time: 17 ms\n"
     ]
    }
   ],
   "source": [
    "for edge in schemaProfiling.edges:\n",
    "    if type(edge.children).__name__=='Leaf':\n",
    "        temp = pydot.Edge(edge.parent.name, str(edge.children.id), label = edge.symbol)\n",
    "    else:\n",
    "        temp = pydot.Edge(edge.parent.name, edge.children.name,label=  edge.symbol)\n",
    "    G.add_edge(temp)"
   ]
  },
  {
   "cell_type": "code",
   "execution_count": 24,
   "metadata": {},
   "outputs": [
    {
     "name": "stdout",
     "output_type": "stream",
     "text": [
      "time: 11 ms\n"
     ]
    }
   ],
   "source": [
    "from IPython.display import Image, display"
   ]
  },
  {
   "cell_type": "code",
   "execution_count": 25,
   "metadata": {},
   "outputs": [
    {
     "data": {
      "image/png": "[encoded data removed]",
      "text/plain": [
       "<IPython.core.display.Image object>"
      ]
     },
     "metadata": {},
     "output_type": "display_data"
    },
    {
     "name": "stdout",
     "output_type": "stream",
     "text": [
      "time: 585 ms\n"
     ]
    }
   ],
   "source": [
    "im = Image(G.create_png())\n",
    "display(im)"
   ]
  },
  {
   "cell_type": "code",
   "execution_count": 21,
   "metadata": {
    "scrolled": true
   },
   "outputs": [
    {
     "name": "stdout",
     "output_type": "stream",
     "text": [
      "[{\"_id\": \"primary\", \"image_id\": \"primary\", \"subset\": \"primary\", \"original_url\": \"primary\"}]\n",
      "[{\"_id\": \"primary\", \"image_id\": \"primary\", \"source\": \"primary\", \"label_name\": \"primary\", \"confidence\": \"primary\"}]\n",
      "time: 3.99 ms\n"
     ]
    }
   ],
   "source": [
    "for node in schemaProfiling.nodes:\n",
    "    if type(node).__name__ == 'Leaf':\n",
    "        print(json.dumps(node.schemas))"
   ]
  },
  {
   "cell_type": "code",
   "execution_count": 22,
   "metadata": {
    "scrolled": false
   },
   "outputs": [
    {
     "ename": "ExecutableNotFound",
     "evalue": "failed to execute ['dot', '-Tpdf', '-O', 'decisionTree.gv'], make sure the Graphviz executables are on your systems' PATH",
     "output_type": "error",
     "traceback": [
      "\u001b[1;31m---------------------------------------------------------------------------\u001b[0m",
      "\u001b[1;31mFileNotFoundError\u001b[0m                         Traceback (most recent call last)",
      "\u001b[1;32mD:\\Anaconda\\lib\\site-packages\\graphviz\\backend.py\u001b[0m in \u001b[0;36mrun\u001b[1;34m(cmd, input, capture_output, check, quiet, **kwargs)\u001b[0m\n\u001b[0;32m    146\u001b[0m     \u001b[1;32mtry\u001b[0m\u001b[1;33m:\u001b[0m\u001b[1;33m\u001b[0m\u001b[0m\n\u001b[1;32m--> 147\u001b[1;33m         \u001b[0mproc\u001b[0m \u001b[1;33m=\u001b[0m \u001b[0msubprocess\u001b[0m\u001b[1;33m.\u001b[0m\u001b[0mPopen\u001b[0m\u001b[1;33m(\u001b[0m\u001b[0mcmd\u001b[0m\u001b[1;33m,\u001b[0m \u001b[0mstartupinfo\u001b[0m\u001b[1;33m=\u001b[0m\u001b[0mget_startupinfo\u001b[0m\u001b[1;33m(\u001b[0m\u001b[1;33m)\u001b[0m\u001b[1;33m,\u001b[0m \u001b[1;33m**\u001b[0m\u001b[0mkwargs\u001b[0m\u001b[1;33m)\u001b[0m\u001b[1;33m\u001b[0m\u001b[0m\n\u001b[0m\u001b[0;32m    148\u001b[0m     \u001b[1;32mexcept\u001b[0m \u001b[0mOSError\u001b[0m \u001b[1;32mas\u001b[0m \u001b[0me\u001b[0m\u001b[1;33m:\u001b[0m\u001b[1;33m\u001b[0m\u001b[0m\n",
      "\u001b[1;32mD:\\Anaconda\\lib\\subprocess.py\u001b[0m in \u001b[0;36m__init__\u001b[1;34m(self, args, bufsize, executable, stdin, stdout, stderr, preexec_fn, close_fds, shell, cwd, env, universal_newlines, startupinfo, creationflags, restore_signals, start_new_session, pass_fds, encoding, errors)\u001b[0m\n\u001b[0;32m    708\u001b[0m                                 \u001b[0merrread\u001b[0m\u001b[1;33m,\u001b[0m \u001b[0merrwrite\u001b[0m\u001b[1;33m,\u001b[0m\u001b[1;33m\u001b[0m\u001b[0m\n\u001b[1;32m--> 709\u001b[1;33m                                 restore_signals, start_new_session)\n\u001b[0m\u001b[0;32m    710\u001b[0m         \u001b[1;32mexcept\u001b[0m\u001b[1;33m:\u001b[0m\u001b[1;33m\u001b[0m\u001b[0m\n",
      "\u001b[1;32mD:\\Anaconda\\lib\\subprocess.py\u001b[0m in \u001b[0;36m_execute_child\u001b[1;34m(self, args, executable, preexec_fn, close_fds, pass_fds, cwd, env, startupinfo, creationflags, shell, p2cread, p2cwrite, c2pread, c2pwrite, errread, errwrite, unused_restore_signals, unused_start_new_session)\u001b[0m\n\u001b[0;32m    996\u001b[0m                                          \u001b[0mos\u001b[0m\u001b[1;33m.\u001b[0m\u001b[0mfspath\u001b[0m\u001b[1;33m(\u001b[0m\u001b[0mcwd\u001b[0m\u001b[1;33m)\u001b[0m \u001b[1;32mif\u001b[0m \u001b[0mcwd\u001b[0m \u001b[1;32mis\u001b[0m \u001b[1;32mnot\u001b[0m \u001b[1;32mNone\u001b[0m \u001b[1;32melse\u001b[0m \u001b[1;32mNone\u001b[0m\u001b[1;33m,\u001b[0m\u001b[1;33m\u001b[0m\u001b[0m\n\u001b[1;32m--> 997\u001b[1;33m                                          startupinfo)\n\u001b[0m\u001b[0;32m    998\u001b[0m             \u001b[1;32mfinally\u001b[0m\u001b[1;33m:\u001b[0m\u001b[1;33m\u001b[0m\u001b[0m\n",
      "\u001b[1;31mFileNotFoundError\u001b[0m: [WinError 2] The system cannot find the file specified",
      "\nDuring handling of the above exception, another exception occurred:\n",
      "\u001b[1;31mExecutableNotFound\u001b[0m                        Traceback (most recent call last)",
      "\u001b[1;32m<ipython-input-22-cdf694a0b2dc>\u001b[0m in \u001b[0;36m<module>\u001b[1;34m()\u001b[0m\n\u001b[0;32m     10\u001b[0m     \u001b[1;32melse\u001b[0m\u001b[1;33m:\u001b[0m\u001b[1;33m\u001b[0m\u001b[0m\n\u001b[0;32m     11\u001b[0m         \u001b[0mg\u001b[0m\u001b[1;33m.\u001b[0m\u001b[0medge\u001b[0m\u001b[1;33m(\u001b[0m\u001b[0medge\u001b[0m\u001b[1;33m.\u001b[0m\u001b[0mparent\u001b[0m\u001b[1;33m.\u001b[0m\u001b[0mname\u001b[0m\u001b[1;33m,\u001b[0m \u001b[0medge\u001b[0m\u001b[1;33m.\u001b[0m\u001b[0mchildren\u001b[0m\u001b[1;33m.\u001b[0m\u001b[0mname\u001b[0m\u001b[1;33m,\u001b[0m \u001b[0medge\u001b[0m\u001b[1;33m.\u001b[0m\u001b[0msymbol\u001b[0m\u001b[1;33m)\u001b[0m\u001b[1;33m\u001b[0m\u001b[0m\n\u001b[1;32m---> 12\u001b[1;33m \u001b[0mg\u001b[0m\u001b[1;33m.\u001b[0m\u001b[0mview\u001b[0m\u001b[1;33m(\u001b[0m\u001b[1;33m)\u001b[0m\u001b[1;33m\u001b[0m\u001b[0m\n\u001b[0m",
      "\u001b[1;32mD:\\Anaconda\\lib\\site-packages\\graphviz\\files.py\u001b[0m in \u001b[0;36mview\u001b[1;34m(self, filename, directory, cleanup)\u001b[0m\n\u001b[0;32m    213\u001b[0m         \"\"\"\n\u001b[0;32m    214\u001b[0m         return self.render(filename=filename, directory=directory, view=True,\n\u001b[1;32m--> 215\u001b[1;33m                            cleanup=cleanup)\n\u001b[0m\u001b[0;32m    216\u001b[0m \u001b[1;33m\u001b[0m\u001b[0m\n\u001b[0;32m    217\u001b[0m     \u001b[1;32mdef\u001b[0m \u001b[0m_view\u001b[0m\u001b[1;33m(\u001b[0m\u001b[0mself\u001b[0m\u001b[1;33m,\u001b[0m \u001b[0mfilepath\u001b[0m\u001b[1;33m,\u001b[0m \u001b[0mformat\u001b[0m\u001b[1;33m)\u001b[0m\u001b[1;33m:\u001b[0m\u001b[1;33m\u001b[0m\u001b[0m\n",
      "\u001b[1;32mD:\\Anaconda\\lib\\site-packages\\graphviz\\files.py\u001b[0m in \u001b[0;36mrender\u001b[1;34m(self, filename, directory, view, cleanup, format, renderer, formatter)\u001b[0m\n\u001b[0;32m    186\u001b[0m             \u001b[0mformat\u001b[0m \u001b[1;33m=\u001b[0m \u001b[0mself\u001b[0m\u001b[1;33m.\u001b[0m\u001b[0m_format\u001b[0m\u001b[1;33m\u001b[0m\u001b[0m\n\u001b[0;32m    187\u001b[0m \u001b[1;33m\u001b[0m\u001b[0m\n\u001b[1;32m--> 188\u001b[1;33m         \u001b[0mrendered\u001b[0m \u001b[1;33m=\u001b[0m \u001b[0mbackend\u001b[0m\u001b[1;33m.\u001b[0m\u001b[0mrender\u001b[0m\u001b[1;33m(\u001b[0m\u001b[0mself\u001b[0m\u001b[1;33m.\u001b[0m\u001b[0m_engine\u001b[0m\u001b[1;33m,\u001b[0m \u001b[0mformat\u001b[0m\u001b[1;33m,\u001b[0m \u001b[0mfilepath\u001b[0m\u001b[1;33m,\u001b[0m \u001b[0mrenderer\u001b[0m\u001b[1;33m,\u001b[0m \u001b[0mformatter\u001b[0m\u001b[1;33m)\u001b[0m\u001b[1;33m\u001b[0m\u001b[0m\n\u001b[0m\u001b[0;32m    189\u001b[0m \u001b[1;33m\u001b[0m\u001b[0m\n\u001b[0;32m    190\u001b[0m         \u001b[1;32mif\u001b[0m \u001b[0mcleanup\u001b[0m\u001b[1;33m:\u001b[0m\u001b[1;33m\u001b[0m\u001b[0m\n",
      "\u001b[1;32mD:\\Anaconda\\lib\\site-packages\\graphviz\\backend.py\u001b[0m in \u001b[0;36mrender\u001b[1;34m(engine, format, filepath, renderer, formatter, quiet)\u001b[0m\n\u001b[0;32m    181\u001b[0m     \"\"\"\n\u001b[0;32m    182\u001b[0m     \u001b[0mcmd\u001b[0m\u001b[1;33m,\u001b[0m \u001b[0mrendered\u001b[0m \u001b[1;33m=\u001b[0m \u001b[0mcommand\u001b[0m\u001b[1;33m(\u001b[0m\u001b[0mengine\u001b[0m\u001b[1;33m,\u001b[0m \u001b[0mformat\u001b[0m\u001b[1;33m,\u001b[0m \u001b[0mfilepath\u001b[0m\u001b[1;33m,\u001b[0m \u001b[0mrenderer\u001b[0m\u001b[1;33m,\u001b[0m \u001b[0mformatter\u001b[0m\u001b[1;33m)\u001b[0m\u001b[1;33m\u001b[0m\u001b[0m\n\u001b[1;32m--> 183\u001b[1;33m     \u001b[0mrun\u001b[0m\u001b[1;33m(\u001b[0m\u001b[0mcmd\u001b[0m\u001b[1;33m,\u001b[0m \u001b[0mcapture_output\u001b[0m\u001b[1;33m=\u001b[0m\u001b[1;32mTrue\u001b[0m\u001b[1;33m,\u001b[0m \u001b[0mcheck\u001b[0m\u001b[1;33m=\u001b[0m\u001b[1;32mTrue\u001b[0m\u001b[1;33m,\u001b[0m \u001b[0mquiet\u001b[0m\u001b[1;33m=\u001b[0m\u001b[0mquiet\u001b[0m\u001b[1;33m)\u001b[0m\u001b[1;33m\u001b[0m\u001b[0m\n\u001b[0m\u001b[0;32m    184\u001b[0m     \u001b[1;32mreturn\u001b[0m \u001b[0mrendered\u001b[0m\u001b[1;33m\u001b[0m\u001b[0m\n\u001b[0;32m    185\u001b[0m \u001b[1;33m\u001b[0m\u001b[0m\n",
      "\u001b[1;32mD:\\Anaconda\\lib\\site-packages\\graphviz\\backend.py\u001b[0m in \u001b[0;36mrun\u001b[1;34m(cmd, input, capture_output, check, quiet, **kwargs)\u001b[0m\n\u001b[0;32m    148\u001b[0m     \u001b[1;32mexcept\u001b[0m \u001b[0mOSError\u001b[0m \u001b[1;32mas\u001b[0m \u001b[0me\u001b[0m\u001b[1;33m:\u001b[0m\u001b[1;33m\u001b[0m\u001b[0m\n\u001b[0;32m    149\u001b[0m         \u001b[1;32mif\u001b[0m \u001b[0me\u001b[0m\u001b[1;33m.\u001b[0m\u001b[0merrno\u001b[0m \u001b[1;33m==\u001b[0m \u001b[0merrno\u001b[0m\u001b[1;33m.\u001b[0m\u001b[0mENOENT\u001b[0m\u001b[1;33m:\u001b[0m\u001b[1;33m\u001b[0m\u001b[0m\n\u001b[1;32m--> 150\u001b[1;33m             \u001b[1;32mraise\u001b[0m \u001b[0mExecutableNotFound\u001b[0m\u001b[1;33m(\u001b[0m\u001b[0mcmd\u001b[0m\u001b[1;33m)\u001b[0m\u001b[1;33m\u001b[0m\u001b[0m\n\u001b[0m\u001b[0;32m    151\u001b[0m         \u001b[1;32melse\u001b[0m\u001b[1;33m:\u001b[0m  \u001b[1;31m# pragma: no cover\u001b[0m\u001b[1;33m\u001b[0m\u001b[0m\n\u001b[0;32m    152\u001b[0m             \u001b[1;32mraise\u001b[0m\u001b[1;33m\u001b[0m\u001b[0m\n",
      "\u001b[1;31mExecutableNotFound\u001b[0m: failed to execute ['dot', '-Tpdf', '-O', 'decisionTree.gv'], make sure the Graphviz executables are on your systems' PATH"
     ]
    },
    {
     "name": "stdout",
     "output_type": "stream",
     "text": [
      "time: 236 ms\n"
     ]
    }
   ],
   "source": [
    "g = Graph('g', filename='decisionTree.gv')\n",
    "for node in schemaProfiling.nodes:\n",
    "    if type(node).__name__ == 'Leaf':\n",
    "        g.node(str(node.id), ''.join(json.dumps(node.schemas)))\n",
    "    else:\n",
    "        g.node(node.name,node.name)\n",
    "for edge in schemaProfiling.edges:\n",
    "    if type(edge.children).__name__=='Leaf':\n",
    "        g.edge(edge.parent.name, str(edge.children.id), edge.symbol)\n",
    "    else:\n",
    "        g.edge(edge.parent.name, edge.children.name, edge.symbol)\n",
    "g.view()"
   ]
  },
  {
   "cell_type": "markdown",
   "metadata": {},
   "source": [
    "## Link to Bigquery and get data"
   ]
  },
  {
   "cell_type": "code",
   "execution_count": null,
   "metadata": {},
   "outputs": [],
   "source": [
    "from google.cloud import bigquery"
   ]
  },
  {
   "cell_type": "code",
   "execution_count": null,
   "metadata": {},
   "outputs": [],
   "source": [
    "def implicit():\n",
    "    from google.cloud import storage\n",
    "\n",
    "    # If you don't specify credentials when constructing the client, the\n",
    "    # client library will look for credentials in the environment.\n",
    "    storage_client = storage.Client()\n",
    "\n",
    "    # Make an authenticated API request\n",
    "    buckets = list(storage_client.list_buckets())\n",
    "    print(buckets)"
   ]
  },
  {
   "cell_type": "code",
   "execution_count": null,
   "metadata": {},
   "outputs": [],
   "source": [
    "# Set Google application credentials environment\n",
    "# The path is the path to your key which generated by \n",
    "import os\n",
    "os.environ[\"GOOGLE_APPLICATION_CREDENTIALS\"] = r\"C:\\Users\\Zunchen\\Documents\\our-lamp-231005-138639b83f6a.json\""
   ]
  },
  {
   "cell_type": "code",
   "execution_count": null,
   "metadata": {},
   "outputs": [],
   "source": [
    "implicit()"
   ]
  },
  {
   "cell_type": "code",
   "execution_count": null,
   "metadata": {},
   "outputs": [],
   "source": [
    "# Instantiates a client\n",
    "bigquery_client = bigquery.Client()"
   ]
  },
  {
   "cell_type": "code",
   "execution_count": null,
   "metadata": {},
   "outputs": [],
   "source": [
    "# Perform a query.\n",
    "QUERY = (\n",
    "    'SELECT * FROM `bigquery-public-data.usa_names.usa_1910_2013` '\n",
    "    'LIMIT 1')\n",
    "query_job = bigquery_client.query(QUERY)  # API request\n",
    "rows = query_job.result()  # Waits for query to finish\n",
    "\n",
    "for row in rows:\n",
    "    print(row.name)"
   ]
  },
  {
   "cell_type": "code",
   "execution_count": null,
   "metadata": {},
   "outputs": [],
   "source": [
    "dataset_id = 'bigquery-public-data.usa_names'\n",
    "dataset_ref = bigquery_client.dataset(dataset_id)\n",
    "tables = list(bigquery_client.list_tables(dataset_ref))\n",
    "print(tables)"
   ]
  },
  {
   "cell_type": "code",
   "execution_count": null,
   "metadata": {},
   "outputs": [],
   "source": []
  }
 ],
 "metadata": {
  "kernelspec": {
   "display_name": "Python 3",
   "language": "python",
   "name": "python3"
  },
  "language_info": {
   "codemirror_mode": {
    "name": "ipython",
    "version": 3
   },
   "file_extension": ".py",
   "mimetype": "text/x-python",
   "name": "python",
   "nbconvert_exporter": "python",
   "pygments_lexer": "ipython3",
   "version": "3.7.2"
  }
 },
 "nbformat": 4,
 "nbformat_minor": 2
}
